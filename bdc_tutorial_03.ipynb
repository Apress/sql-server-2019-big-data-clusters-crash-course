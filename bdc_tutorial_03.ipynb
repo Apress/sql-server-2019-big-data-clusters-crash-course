{
    "metadata": {
        "kernelspec": {
            "name": "SQL",
            "display_name": "SQL",
            "language": "sql"
        },
        "language_info": {
            "name": "sql",
            "version": ""
        }
    },
    "nbformat_minor": 2,
    "nbformat": 4,
    "cells": [
        {
            "cell_type": "markdown",
            "source": "<img src=\"https://github.com/Microsoft/sqlworkshops/blob/master/graphics/solutions-microsoft-logo-small.png?raw=true\" alt=\"Microsoft\">\r\n<br>\r\n\r\n# SQL Server 2019 big data cluster Tutorial\r\n## 03 - Creating and Querying a Data Mart\r\n\r\nIn this tutorial you will learn how to create and query a Data Mart using Virtualized Data in a SQL Server big data cluster. \r\n\r\nWide World Importers is interested in ingesting the data from web logs from an HDFS source where they have been streamed. They want to be able to analyze the traffic to see if there is a pattern in time, products or locations. \r\n\r\nThe web logs, however, are refreshed periodically. WWI would like to keep the logs in local storage to do deeper analysis. \r\n\r\nIn this Jupyter Notebook you'll create a location to store the log files as a SQL Server Table in the SQL Data Pool, and then fill it by creating an External Table that reads HDFS.",
            "metadata": {}
        },
        {
            "cell_type": "code",
            "source": "USE WideWorldImporters;\r\nGO\r\n\r\nCREATE EXTERNAL DATA SOURCE SqlDataPool\r\nWITH (LOCATION = 'sqldatapool://controller-svc/default');",
            "metadata": {},
            "outputs": [
                {
                    "output_type": "display_data",
                    "data": {
                        "text/html": "Commands completed successfully."
                    },
                    "metadata": {}
                },
                {
                    "output_type": "display_data",
                    "data": {
                        "text/html": "Commands completed successfully."
                    },
                    "metadata": {}
                },
                {
                    "output_type": "display_data",
                    "data": {
                        "text/html": "Total execution time: 00:00:00.166"
                    },
                    "metadata": {}
                }
            ],
            "execution_count": 3
        },
        {
            "cell_type": "code",
            "source": "CREATE EXTERNAL TABLE [web_clickstream_clicks_data_pool]\r\n    (\"wcs_click_date_sk\" BIGINT \r\n    , \"wcs_click_time_sk\" BIGINT \r\n    , \"wcs_sales_sk\" BIGINT \r\n    , \"wcs_item_sk\" BIGINT\r\n    , \"wcs_web_page_sk\" BIGINT \r\n    , \"wcs_user_sk\" BIGINT)\r\n    WITH\r\n    (\r\n    DATA_SOURCE = SqlDataPool,\r\n    DISTRIBUTION = ROUND_ROBIN\r\n    );\r\nGO",
            "metadata": {},
            "outputs": [
                {
                    "output_type": "display_data",
                    "data": {
                        "text/html": "Commands completed successfully."
                    },
                    "metadata": {}
                },
                {
                    "output_type": "display_data",
                    "data": {
                        "text/html": "Total execution time: 00:00:08.849"
                    },
                    "metadata": {}
                }
            ],
            "execution_count": 4
        },
        {
            "cell_type": "code",
            "source": "/* Create an External Table that can read from the Storage Pool File Location */\r\nIF NOT EXISTS(SELECT * FROM sys.external_tables WHERE name = 'web_clickstreams_hdfs')\r\nBEGIN\r\n    CREATE EXTERNAL TABLE [web_clickstreams_hdfs]\r\n    (\"wcs_click_date_sk\" BIGINT \r\n    , \"wcs_click_time_sk\" BIGINT \r\n    , \"wcs_sales_sk\" BIGINT \r\n    , \"wcs_item_sk\" BIGINT\r\n    , \"wcs_web_page_sk\" BIGINT \r\n    , \"wcs_user_sk\" BIGINT)\r\n    WITH\r\n    (\r\n        DATA_SOURCE = SqlStoragePool,\r\n        LOCATION = '/web_logs',\r\n        FILE_FORMAT = csv_file\r\n    );\r\nEND",
            "metadata": {},
            "outputs": [
                {
                    "output_type": "display_data",
                    "data": {
                        "text/html": "Commands completed successfully."
                    },
                    "metadata": {}
                },
                {
                    "output_type": "display_data",
                    "data": {
                        "text/html": "Total execution time: 00:00:00.223"
                    },
                    "metadata": {}
                }
            ],
            "execution_count": 5
        },
        {
            "cell_type": "code",
            "source": "BEGIN\r\n   INSERT INTO web_clickstream_clicks_data_pool\r\n   SELECT wcs_click_date_sk\r\n    , wcs_click_time_sk \r\n    , wcs_sales_sk \r\n    , wcs_item_sk \r\n    , wcs_web_page_sk  \r\n    , wcs_user_sk \r\n     FROM web_clickstreams_hdfs\r\nEND",
            "metadata": {},
            "outputs": [
                {
                    "output_type": "display_data",
                    "data": {
                        "text/html": "(6770549 rows affected)"
                    },
                    "metadata": {}
                },
                {
                    "output_type": "display_data",
                    "data": {
                        "text/html": "Total execution time: 00:00:42.670"
                    },
                    "metadata": {}
                }
            ],
            "execution_count": 6
        },
        {
            "cell_type": "code",
            "source": "SELECT count(*) FROM [dbo].[web_clickstream_clicks_data_pool]\r\nSELECT TOP 10 * FROM [dbo].[web_clickstream_clicks_data_pool]",
            "metadata": {},
            "outputs": [
                {
                    "output_type": "display_data",
                    "data": {
                        "text/html": "(1 row affected)"
                    },
                    "metadata": {}
                },
                {
                    "output_type": "display_data",
                    "data": {
                        "text/html": "(10 rows affected)"
                    },
                    "metadata": {}
                },
                {
                    "output_type": "display_data",
                    "data": {
                        "text/html": "Total execution time: 00:00:00.843"
                    },
                    "metadata": {}
                },
                {
                    "output_type": "execute_result",
                    "metadata": {},
                    "execution_count": 7,
                    "data": {
                        "application/vnd.dataresource+json": {
                            "schema": {
                                "fields": [
                                    {
                                        "name": "(No column name)"
                                    }
                                ]
                            },
                            "data": [
                                {
                                    "0": "6770549"
                                }
                            ]
                        },
                        "text/html": "<table><tr><th>(No column name)</th></tr><tr><td>6770549</td></tr></table>"
                    }
                },
                {
                    "output_type": "execute_result",
                    "metadata": {},
                    "execution_count": 7,
                    "data": {
                        "application/vnd.dataresource+json": {
                            "schema": {
                                "fields": [
                                    {
                                        "name": "wcs_click_date_sk"
                                    },
                                    {
                                        "name": "wcs_click_time_sk"
                                    },
                                    {
                                        "name": "wcs_sales_sk"
                                    },
                                    {
                                        "name": "wcs_item_sk"
                                    },
                                    {
                                        "name": "wcs_web_page_sk"
                                    },
                                    {
                                        "name": "wcs_user_sk"
                                    }
                                ]
                            },
                            "data": [
                                {
                                    "0": "37775",
                                    "1": "35460",
                                    "2": "NULL",
                                    "3": "7394",
                                    "4": "53",
                                    "5": "NULL"
                                },
                                {
                                    "0": "37775",
                                    "1": "12155",
                                    "2": "NULL",
                                    "3": "13157",
                                    "4": "53",
                                    "5": "NULL"
                                },
                                {
                                    "0": "37775",
                                    "1": "4880",
                                    "2": "NULL",
                                    "3": "13098",
                                    "4": "53",
                                    "5": "NULL"
                                },
                                {
                                    "0": "37775",
                                    "1": "36272",
                                    "2": "NULL",
                                    "3": "6851",
                                    "4": "53",
                                    "5": "NULL"
                                },
                                {
                                    "0": "37775",
                                    "1": "24922",
                                    "2": "NULL",
                                    "3": "5198",
                                    "4": "53",
                                    "5": "NULL"
                                },
                                {
                                    "0": "37776",
                                    "1": "74100",
                                    "2": "NULL",
                                    "3": "16015",
                                    "4": "53",
                                    "5": "NULL"
                                },
                                {
                                    "0": "37776",
                                    "1": "26833",
                                    "2": "NULL",
                                    "3": "12921",
                                    "4": "53",
                                    "5": "NULL"
                                },
                                {
                                    "0": "37776",
                                    "1": "72943",
                                    "2": "NULL",
                                    "3": "5015",
                                    "4": "53",
                                    "5": "NULL"
                                },
                                {
                                    "0": "37776",
                                    "1": "9387",
                                    "2": "NULL",
                                    "3": "12274",
                                    "4": "53",
                                    "5": "NULL"
                                },
                                {
                                    "0": "37776",
                                    "1": "32557",
                                    "2": "NULL",
                                    "3": "11344",
                                    "4": "53",
                                    "5": "NULL"
                                }
                            ]
                        },
                        "text/html": "<table><tr><th>wcs_click_date_sk</th><th>wcs_click_time_sk</th><th>wcs_sales_sk</th><th>wcs_item_sk</th><th>wcs_web_page_sk</th><th>wcs_user_sk</th></tr><tr><td>37775</td><td>35460</td><td>NULL</td><td>7394</td><td>53</td><td>NULL</td></tr><tr><td>37775</td><td>12155</td><td>NULL</td><td>13157</td><td>53</td><td>NULL</td></tr><tr><td>37775</td><td>4880</td><td>NULL</td><td>13098</td><td>53</td><td>NULL</td></tr><tr><td>37775</td><td>36272</td><td>NULL</td><td>6851</td><td>53</td><td>NULL</td></tr><tr><td>37775</td><td>24922</td><td>NULL</td><td>5198</td><td>53</td><td>NULL</td></tr><tr><td>37776</td><td>74100</td><td>NULL</td><td>16015</td><td>53</td><td>NULL</td></tr><tr><td>37776</td><td>26833</td><td>NULL</td><td>12921</td><td>53</td><td>NULL</td></tr><tr><td>37776</td><td>72943</td><td>NULL</td><td>5015</td><td>53</td><td>NULL</td></tr><tr><td>37776</td><td>9387</td><td>NULL</td><td>12274</td><td>53</td><td>NULL</td></tr><tr><td>37776</td><td>32557</td><td>NULL</td><td>11344</td><td>53</td><td>NULL</td></tr></table>"
                    }
                }
            ],
            "execution_count": 7
        },
        {
            "cell_type": "markdown",
            "source": "## Next Steps: Continue on to Working with Spark and ETL\r\n\r\nNow you're ready to open the next Python Notebook - `bdc_tutorial_04.ipynb` - to learn how to create and work with Spark and Extracting, Transforming and Loading data.",
            "metadata": {}
        }
    ]
}