{
    "metadata": {
        "kernelspec": {
            "name": "SQL",
            "display_name": "SQL",
            "language": "sql"
        },
        "language_info": {
            "name": "sql",
            "version": ""
        }
    },
    "nbformat_minor": 2,
    "nbformat": 4,
    "cells": [
        {
            "cell_type": "markdown",
            "source": "<img src=\"https://github.com/Microsoft/sqlworkshops/blob/master/graphics/solutions-microsoft-logo-small.png?raw=true\" alt=\"Microsoft\">\r\n<br>\r\n\r\n# SQL Server 2019 big data cluster Tutorial\r\n## 02 - Data Virtualization\r\n\r\nIn this tutorial you will learn how to create and query Virtualized Data in a SQL Server big data cluster.  \r\n- You'll start with creating a text file format, since that's the type of data you are reading in. \r\n- Next, you'll create a data source for the SQL Storage Pool, since that allows you to access the HDFS system in BDC. \r\n- Finally, you'll create an External Table, which uses the previous steps to access the data.\r\n",
            "metadata": {}
        },
        {
            "cell_type": "code",
            "source": "/* Clean up only - run this cell only if you are repeating the tutorial! */\r\nUSE WideWorldImporters;\r\nGO\r\n\r\nDROP EXTERNAL TABLE partner_customers_hdfs\r\nDROP EXTERNAL FILE FORMAT csv_file\r\nDROP EXTERNAL DATA SOURCE SqlStoragePool\r\n",
            "metadata": {},
            "outputs": [
                {
                    "output_type": "display_data",
                    "data": {
                        "text/html": "Commands completed successfully."
                    },
                    "metadata": {}
                },
                {
                    "output_type": "display_data",
                    "data": {
                        "text/html": "Commands completed successfully."
                    },
                    "metadata": {}
                },
                {
                    "output_type": "display_data",
                    "data": {
                        "text/html": "Total execution time: 00:00:00.179"
                    },
                    "metadata": {}
                }
            ],
            "execution_count": 0
        },
        {
            "cell_type": "code",
            "source": "/* Create External File Format */\r\n\r\nUSE WideWorldImporters;\r\nGO\r\n\r\nCREATE EXTERNAL FILE FORMAT csv_file\r\nWITH (\r\n    FORMAT_TYPE = DELIMITEDTEXT,\r\n    FORMAT_OPTIONS(\r\n        FIELD_TERMINATOR = ',',\r\n        STRING_DELIMITER = '0x22',\r\n        FIRST_ROW = 2,\r\n        USE_TYPE_DEFAULT = TRUE)\r\n);\r\nGO",
            "metadata": {},
            "outputs": [
                {
                    "output_type": "display_data",
                    "data": {
                        "text/html": "Commands completed successfully."
                    },
                    "metadata": {}
                },
                {
                    "output_type": "display_data",
                    "data": {
                        "text/html": "Commands completed successfully."
                    },
                    "metadata": {}
                },
                {
                    "output_type": "display_data",
                    "data": {
                        "text/html": "Total execution time: 00:00:00.257"
                    },
                    "metadata": {}
                }
            ],
            "execution_count": 1
        },
        {
            "cell_type": "code",
            "source": "/* Create External Data Source to the Storage Pool */\r\nCREATE EXTERNAL DATA SOURCE SqlStoragePool\r\nWITH (LOCATION = 'sqlhdfs://controller-svc/default');",
            "metadata": {},
            "outputs": [
                {
                    "output_type": "display_data",
                    "data": {
                        "text/html": "Commands completed successfully."
                    },
                    "metadata": {}
                },
                {
                    "output_type": "display_data",
                    "data": {
                        "text/html": "Total execution time: 00:00:00.129"
                    },
                    "metadata": {}
                }
            ],
            "execution_count": 2
        },
        {
            "cell_type": "code",
            "source": "/* Create an External Table that can read from the Storage Pool File Location */\r\nCREATE EXTERNAL TABLE [partner_customers_hdfs]\r\n    (\"CustomerSource\" VARCHAR(250) \r\n    , \"CustomerName\" VARCHAR(250) \r\n    , \"EmailAddress\" VARCHAR(250))\r\n    WITH\r\n    (\r\n        DATA_SOURCE = SqlStoragePool,\r\n        LOCATION = '/partner_customers',\r\n        FILE_FORMAT = csv_file\r\n    );\r\nGO",
            "metadata": {},
            "outputs": [
                {
                    "output_type": "display_data",
                    "data": {
                        "text/html": "Commands completed successfully."
                    },
                    "metadata": {}
                },
                {
                    "output_type": "display_data",
                    "data": {
                        "text/html": "Total execution time: 00:00:00.662"
                    },
                    "metadata": {}
                }
            ],
            "execution_count": 3
        },
        {
            "cell_type": "code",
            "source": "/* Read Data from HDFS using only T-SQL */\r\n\r\nSELECT TOP 10 CustomerSource\r\n, CustomerName\r\n, EMailAddress\r\n    FROM [partner_customers_hdfs] hdfs\r\nWHERE EmailAddress LIKE '%wingtip%'\r\nORDER BY CustomerSource, CustomerName;\r\nGO\r\n",
            "metadata": {},
            "outputs": [
                {
                    "output_type": "display_data",
                    "data": {
                        "text/html": "(10 rows affected)"
                    },
                    "metadata": {}
                },
                {
                    "output_type": "display_data",
                    "data": {
                        "text/html": "Total execution time: 00:00:00.699"
                    },
                    "metadata": {}
                },
                {
                    "output_type": "execute_result",
                    "metadata": {},
                    "execution_count": 5,
                    "data": {
                        "application/vnd.dataresource+json": {
                            "schema": {
                                "fields": [
                                    {
                                        "name": "CustomerSource"
                                    },
                                    {
                                        "name": "CustomerName"
                                    },
                                    {
                                        "name": "EMailAddress"
                                    }
                                ]
                            },
                            "data": [
                                {
                                    "0": "AdventureWorks",
                                    "1": "Ã…Å¡ani Nair",
                                    "2": "Ã¥Å¡ani@wingtiptoys.com\r"
                                },
                                {
                                    "0": "AdventureWorks",
                                    "1": "Ã…Å¡ani Sen",
                                    "2": "Ã¥Å¡ani@wingtiptoys.com\r"
                                },
                                {
                                    "0": "AdventureWorks",
                                    "1": "Aakriti Bhamidipati",
                                    "2": "aakriti@wingtiptoys.com\r"
                                },
                                {
                                    "0": "AdventureWorks",
                                    "1": "Aamdaal Kamasamudram",
                                    "2": "aamdaal@wingtiptoys.com\r"
                                },
                                {
                                    "0": "AdventureWorks",
                                    "1": "Abel Pirvu",
                                    "2": "abel@wingtiptoys.com\r"
                                },
                                {
                                    "0": "AdventureWorks",
                                    "1": "Abhaya Rambhatla",
                                    "2": "abhaya@wingtiptoys.com\r"
                                },
                                {
                                    "0": "AdventureWorks",
                                    "1": "Abhra Thakur",
                                    "2": "abhra@wingtiptoys.com\r"
                                },
                                {
                                    "0": "AdventureWorks",
                                    "1": "Adam Balaz",
                                    "2": "adam@wingtiptoys.com\r"
                                },
                                {
                                    "0": "AdventureWorks",
                                    "1": "Adirake Narkbunnum",
                                    "2": "adirake@wingtiptoys.com\r"
                                },
                                {
                                    "0": "AdventureWorks",
                                    "1": "Adirake Saenamuang",
                                    "2": "adirake@wingtiptoys.com\r"
                                }
                            ]
                        },
                        "text/html": "<table><tr><th>CustomerSource</th><th>CustomerName</th><th>EMailAddress</th></tr><tr><td>AdventureWorks</td><td>Ã…Å¡ani Nair</td><td>Ã¥Å¡ani@wingtiptoys.com\r</td></tr><tr><td>AdventureWorks</td><td>Ã…Å¡ani Sen</td><td>Ã¥Å¡ani@wingtiptoys.com\r</td></tr><tr><td>AdventureWorks</td><td>Aakriti Bhamidipati</td><td>aakriti@wingtiptoys.com\r</td></tr><tr><td>AdventureWorks</td><td>Aamdaal Kamasamudram</td><td>aamdaal@wingtiptoys.com\r</td></tr><tr><td>AdventureWorks</td><td>Abel Pirvu</td><td>abel@wingtiptoys.com\r</td></tr><tr><td>AdventureWorks</td><td>Abhaya Rambhatla</td><td>abhaya@wingtiptoys.com\r</td></tr><tr><td>AdventureWorks</td><td>Abhra Thakur</td><td>abhra@wingtiptoys.com\r</td></tr><tr><td>AdventureWorks</td><td>Adam Balaz</td><td>adam@wingtiptoys.com\r</td></tr><tr><td>AdventureWorks</td><td>Adirake Narkbunnum</td><td>adirake@wingtiptoys.com\r</td></tr><tr><td>AdventureWorks</td><td>Adirake Saenamuang</td><td>adirake@wingtiptoys.com\r</td></tr></table>"
                    }
                }
            ],
            "execution_count": 5
        },
        {
            "cell_type": "code",
            "source": "/* Now Join Those to show customers we currently have in a SQL Server Database \r\nand the Category they qre in the External Table */\r\nUSE WideWorldImporters;\r\nGO\r\n\r\nSELECT TOP 10 a.FullName\r\n  , b.CustomerSource\r\n  FROM Application.People a\r\n  INNER JOIN partner_customers_hdfs b  ON a.FullName = b.CustomerName\r\n  ORDER BY FullName ASC;\r\n  GO",
            "metadata": {},
            "outputs": [
                {
                    "output_type": "display_data",
                    "data": {
                        "text/html": "Commands completed successfully."
                    },
                    "metadata": {}
                },
                {
                    "output_type": "display_data",
                    "data": {
                        "text/html": "(10 rows affected)"
                    },
                    "metadata": {}
                },
                {
                    "output_type": "display_data",
                    "data": {
                        "text/html": "Total execution time: 00:00:00.661"
                    },
                    "metadata": {}
                },
                {
                    "output_type": "execute_result",
                    "metadata": {},
                    "execution_count": 6,
                    "data": {
                        "application/vnd.dataresource+json": {
                            "schema": {
                                "fields": [
                                    {
                                        "name": "FullName"
                                    },
                                    {
                                        "name": "CustomerSource"
                                    }
                                ]
                            },
                            "data": [
                                {
                                    "0": "Aahlada Thota",
                                    "1": "AdventureWorks"
                                },
                                {
                                    "0": "Aakarsha Nookala",
                                    "1": "AdventureWorks"
                                },
                                {
                                    "0": "Aakriti Bhamidipati",
                                    "1": "AdventureWorks"
                                },
                                {
                                    "0": "Aamdaal Kamasamudram",
                                    "1": "AdventureWorks"
                                },
                                {
                                    "0": "Abel Pirvu",
                                    "1": "AdventureWorks"
                                },
                                {
                                    "0": "Abhaya Rambhatla",
                                    "1": "AdventureWorks"
                                },
                                {
                                    "0": "Abhra Thakur",
                                    "1": "AdventureWorks"
                                },
                                {
                                    "0": "Adam Balaz",
                                    "1": "AdventureWorks"
                                },
                                {
                                    "0": "Adam Dvorak",
                                    "1": "AdventureWorks"
                                },
                                {
                                    "0": "Adam Kubat",
                                    "1": "AdventureWorks"
                                }
                            ]
                        },
                        "text/html": "<table><tr><th>FullName</th><th>CustomerSource</th></tr><tr><td>Aahlada Thota</td><td>AdventureWorks</td></tr><tr><td>Aakarsha Nookala</td><td>AdventureWorks</td></tr><tr><td>Aakriti Bhamidipati</td><td>AdventureWorks</td></tr><tr><td>Aamdaal Kamasamudram</td><td>AdventureWorks</td></tr><tr><td>Abel Pirvu</td><td>AdventureWorks</td></tr><tr><td>Abhaya Rambhatla</td><td>AdventureWorks</td></tr><tr><td>Abhra Thakur</td><td>AdventureWorks</td></tr><tr><td>Adam Balaz</td><td>AdventureWorks</td></tr><tr><td>Adam Dvorak</td><td>AdventureWorks</td></tr><tr><td>Adam Kubat</td><td>AdventureWorks</td></tr></table>"
                    }
                }
            ],
            "execution_count": 6
        },
        {
            "cell_type": "markdown",
            "source": "## Next Steps: Continue on to Working with the SQL Server Data Pool\r\n\r\nNow you're ready to open the next Python Notebook - `bdc_tutorial_03.ipynb` - to learn how to create and work with a Data Mart.",
            "metadata": {}
        }
    ]
}