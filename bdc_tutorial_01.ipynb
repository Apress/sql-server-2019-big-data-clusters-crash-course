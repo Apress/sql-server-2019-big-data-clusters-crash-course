{
    "metadata": {
        "kernelspec": {
            "name": "SQL",
            "display_name": "SQL",
            "language": "sql"
        },
        "language_info": {
            "name": "sql",
            "version": ""
        }
    },
    "nbformat_minor": 2,
    "nbformat": 4,
    "cells": [
        {
            "cell_type": "markdown",
            "source": [
                "<img src=\"https://github.com/Microsoft/sqlworkshops/blob/master/graphics/solutions-microsoft-logo-small.png?raw=true\" alt=\"Microsoft\">\r\n",
                "<br>\r\n",
                "\r\n",
                "# SQL Server 2019 big data cluster Tutorial\r\n",
                "## 01 - SQL Server Master Instance Queries\r\n",
                "\r\n",
                "In this tutorial you will learn how to run standard SQL Server Queries against the Master Instance (MI) in a SQL Server big data cluster. \r\n",
                "\r\n",
                "You'll start with a simple set of queries to explore the Instance: \r\n",
                "\r\n",
                ""
            ],
            "metadata": {
                "azdata_cell_guid": "bca9df1d-585b-40c9-b61f-0f1d5bff4d74"
            }
        },
        {
            "cell_type": "code",
            "source": [
                "/* Instance Version */\r\n",
                "SELECT @@VERSION; \r\n",
                "GO\r\n",
                "\r\n",
                "/* General Configuration */\r\n",
                "USE master;  \r\n",
                "GO  \r\n",
                "EXEC sp_configure;\r\n",
                "GO\r\n",
                "\r\n",
                "/* Databases on this Instance */\r\n",
                "SELECT db.name AS 'Database Name'\r\n",
                ", Physical_Name AS 'Location on Disk'\r\n",
                ", Cast(Cast(Round(cast(mf.size as decimal) * 8.0/1024000.0,2) as decimal(18,2)) as nvarchar) 'Size (GB)'\r\n",
                "FROM sys.master_files mf\r\n",
                "INNER JOIN \r\n",
                "    sys.databases db ON db.database_id = mf.database_id\r\n",
                "WHERE mf.type_desc = 'ROWS';\r\n",
                "GO\r\n",
                "\r\n",
                "SELECT * from sys.master_files\r\n",
                ""
            ],
            "metadata": {
                "azdata_cell_guid": "245818aa-6bbd-44eb-832e-8c57f1dbe564"
            },
            "outputs": [
                {
                    "output_type": "display_data",
                    "data": {
                        "text/html": "(1 row affected)"
                    },
                    "metadata": {}
                },
                {
                    "output_type": "display_data",
                    "data": {
                        "text/html": "Total execution time: 00:00:00.1928799"
                    },
                    "metadata": {}
                },
                {
                    "output_type": "execute_result",
                    "execution_count": 1,
                    "data": {
                        "application/vnd.dataresource+json": {
                            "schema": {
                                "fields": [
                                    {
                                        "name": "(No column name)"
                                    }
                                ]
                            },
                            "data": [
                                {
                                    "0": "Microsoft SQL Server 2019 (CTP2.5) - 15.0.1500.28 (X64) \n\tApr 15 2019 15:33:10 \n\tCopyright (C) 2019 Microsoft Corporation\n\tDeveloper Edition (64-bit) on Linux (Ubuntu 16.04.6 LTS) <X64>"
                                }
                            ]
                        },
                        "text/html": "<table><tr><th>(No column name)</th></tr><tr><td>Microsoft SQL Server 2019 (CTP2.5) - 15.0.1500.28 (X64) \n\tApr 15 2019 15:33:10 \n\tCopyright (C) 2019 Microsoft Corporation\n\tDeveloper Edition (64-bit) on Linux (Ubuntu 16.04.6 LTS) &lt;X64&gt;</td></tr></table>"
                    },
                    "metadata": {}
                },
                {
                    "output_type": "display_data",
                    "data": {
                        "text/html": "Commands completed successfully."
                    },
                    "metadata": {}
                },
                {
                    "output_type": "display_data",
                    "data": {
                        "text/html": "Total execution time: 00:00:00.0557785"
                    },
                    "metadata": {}
                },
                {
                    "output_type": "display_data",
                    "data": {
                        "text/html": "Commands completed successfully."
                    },
                    "metadata": {}
                },
                {
                    "output_type": "display_data",
                    "data": {
                        "text/html": "Total execution time: 00:00:00.0540205"
                    },
                    "metadata": {}
                },
                {
                    "output_type": "display_data",
                    "data": {
                        "text/html": "(9 rows affected)"
                    },
                    "metadata": {}
                },
                {
                    "output_type": "display_data",
                    "data": {
                        "text/html": "Total execution time: 00:00:00.0579626"
                    },
                    "metadata": {}
                },
                {
                    "output_type": "execute_result",
                    "execution_count": 1,
                    "data": {
                        "application/vnd.dataresource+json": {
                            "schema": {
                                "fields": [
                                    {
                                        "name": "name"
                                    },
                                    {
                                        "name": "minimum"
                                    },
                                    {
                                        "name": "maximum"
                                    },
                                    {
                                        "name": "config_value"
                                    },
                                    {
                                        "name": "run_value"
                                    }
                                ]
                            },
                            "data": [
                                {
                                    "0": "allow polybase export",
                                    "1": "0",
                                    "2": "1",
                                    "3": "0",
                                    "4": "0"
                                },
                                {
                                    "0": "allow updates",
                                    "1": "0",
                                    "2": "1",
                                    "3": "0",
                                    "4": "0"
                                },
                                {
                                    "0": "backup checksum default",
                                    "1": "0",
                                    "2": "1",
                                    "3": "0",
                                    "4": "0"
                                },
                                {
                                    "0": "backup compression default",
                                    "1": "0",
                                    "2": "1",
                                    "3": "0",
                                    "4": "0"
                                },
                                {
                                    "0": "clr enabled",
                                    "1": "0",
                                    "2": "1",
                                    "3": "0",
                                    "4": "0"
                                },
                                {
                                    "0": "column encryption enclave type",
                                    "1": "0",
                                    "2": "1",
                                    "3": "0",
                                    "4": "0"
                                },
                                {
                                    "0": "contained database authentication",
                                    "1": "0",
                                    "2": "1",
                                    "3": "0",
                                    "4": "0"
                                },
                                {
                                    "0": "cross db ownership chaining",
                                    "1": "0",
                                    "2": "1",
                                    "3": "0",
                                    "4": "0"
                                },
                                {
                                    "0": "default language",
                                    "1": "0",
                                    "2": "9999",
                                    "3": "0",
                                    "4": "0"
                                },
                                {
                                    "0": "external scripts enabled",
                                    "1": "0",
                                    "2": "1",
                                    "3": "0",
                                    "4": "0"
                                },
                                {
                                    "0": "filestream access level",
                                    "1": "0",
                                    "2": "2",
                                    "3": "0",
                                    "4": "0"
                                },
                                {
                                    "0": "hadoop connectivity",
                                    "1": "0",
                                    "2": "7",
                                    "3": "7",
                                    "4": "7"
                                },
                                {
                                    "0": "max text repl size (B)",
                                    "1": "-1",
                                    "2": "2147483647",
                                    "3": "65536",
                                    "4": "65536"
                                },
                                {
                                    "0": "nested triggers",
                                    "1": "0",
                                    "2": "1",
                                    "3": "1",
                                    "4": "1"
                                },
                                {
                                    "0": "polybase enabled",
                                    "1": "0",
                                    "2": "1",
                                    "3": "1",
                                    "4": "1"
                                },
                                {
                                    "0": "polybase network encryption",
                                    "1": "0",
                                    "2": "1",
                                    "3": "0",
                                    "4": "0"
                                },
                                {
                                    "0": "remote access",
                                    "1": "0",
                                    "2": "1",
                                    "3": "1",
                                    "4": "1"
                                },
                                {
                                    "0": "remote admin connections",
                                    "1": "0",
                                    "2": "1",
                                    "3": "0",
                                    "4": "0"
                                },
                                {
                                    "0": "remote data archive",
                                    "1": "0",
                                    "2": "1",
                                    "3": "0",
                                    "4": "0"
                                },
                                {
                                    "0": "remote login timeout (s)",
                                    "1": "0",
                                    "2": "2147483647",
                                    "3": "10",
                                    "4": "10"
                                },
                                {
                                    "0": "remote proc trans",
                                    "1": "0",
                                    "2": "1",
                                    "3": "0",
                                    "4": "0"
                                },
                                {
                                    "0": "remote query timeout (s)",
                                    "1": "0",
                                    "2": "2147483647",
                                    "3": "600",
                                    "4": "600"
                                },
                                {
                                    "0": "server trigger recursion",
                                    "1": "0",
                                    "2": "1",
                                    "3": "1",
                                    "4": "1"
                                },
                                {
                                    "0": "show advanced options",
                                    "1": "0",
                                    "2": "1",
                                    "3": "0",
                                    "4": "0"
                                },
                                {
                                    "0": "user options",
                                    "1": "0",
                                    "2": "32767",
                                    "3": "0",
                                    "4": "0"
                                }
                            ]
                        },
                        "text/html": "<table><tr><th>name</th><th>minimum</th><th>maximum</th><th>config_value</th><th>run_value</th></tr><tr><td>allow polybase export</td><td>0</td><td>1</td><td>0</td><td>0</td></tr><tr><td>allow updates</td><td>0</td><td>1</td><td>0</td><td>0</td></tr><tr><td>backup checksum default</td><td>0</td><td>1</td><td>0</td><td>0</td></tr><tr><td>backup compression default</td><td>0</td><td>1</td><td>0</td><td>0</td></tr><tr><td>clr enabled</td><td>0</td><td>1</td><td>0</td><td>0</td></tr><tr><td>column encryption enclave type</td><td>0</td><td>1</td><td>0</td><td>0</td></tr><tr><td>contained database authentication</td><td>0</td><td>1</td><td>0</td><td>0</td></tr><tr><td>cross db ownership chaining</td><td>0</td><td>1</td><td>0</td><td>0</td></tr><tr><td>default language</td><td>0</td><td>9999</td><td>0</td><td>0</td></tr><tr><td>external scripts enabled</td><td>0</td><td>1</td><td>0</td><td>0</td></tr><tr><td>filestream access level</td><td>0</td><td>2</td><td>0</td><td>0</td></tr><tr><td>hadoop connectivity</td><td>0</td><td>7</td><td>7</td><td>7</td></tr><tr><td>max text repl size (B)</td><td>-1</td><td>2147483647</td><td>65536</td><td>65536</td></tr><tr><td>nested triggers</td><td>0</td><td>1</td><td>1</td><td>1</td></tr><tr><td>polybase enabled</td><td>0</td><td>1</td><td>1</td><td>1</td></tr><tr><td>polybase network encryption</td><td>0</td><td>1</td><td>0</td><td>0</td></tr><tr><td>remote access</td><td>0</td><td>1</td><td>1</td><td>1</td></tr><tr><td>remote admin connections</td><td>0</td><td>1</td><td>0</td><td>0</td></tr><tr><td>remote data archive</td><td>0</td><td>1</td><td>0</td><td>0</td></tr><tr><td>remote login timeout (s)</td><td>0</td><td>2147483647</td><td>10</td><td>10</td></tr><tr><td>remote proc trans</td><td>0</td><td>1</td><td>0</td><td>0</td></tr><tr><td>remote query timeout (s)</td><td>0</td><td>2147483647</td><td>600</td><td>600</td></tr><tr><td>server trigger recursion</td><td>0</td><td>1</td><td>1</td><td>1</td></tr><tr><td>show advanced options</td><td>0</td><td>1</td><td>0</td><td>0</td></tr><tr><td>user options</td><td>0</td><td>32767</td><td>0</td><td>0</td></tr></table>"
                    },
                    "metadata": {}
                },
                {
                    "output_type": "display_data",
                    "data": {
                        "text/html": "(18 rows affected)"
                    },
                    "metadata": {}
                },
                {
                    "output_type": "execute_result",
                    "execution_count": 1,
                    "data": {
                        "application/vnd.dataresource+json": {
                            "schema": {
                                "fields": [
                                    {
                                        "name": "Database Name"
                                    },
                                    {
                                        "name": "Location on Disk"
                                    },
                                    {
                                        "name": "Size (GB)"
                                    }
                                ]
                            },
                            "data": [
                                {
                                    "0": "master",
                                    "1": "/var/opt/mssql/data/master.mdf",
                                    "2": "0.00"
                                },
                                {
                                    "0": "tempdb",
                                    "1": "/var/opt/mssql/data/tempdb.mdf",
                                    "2": "0.01"
                                },
                                {
                                    "0": "model",
                                    "1": "/var/opt/mssql/data/model.mdf",
                                    "2": "0.01"
                                },
                                {
                                    "0": "msdb",
                                    "1": "/var/opt/mssql/data/MSDBData.mdf",
                                    "2": "0.01"
                                },
                                {
                                    "0": "DWDiagnostics",
                                    "1": "/var/opt/mssql/data/DWDiagnostics.mdf",
                                    "2": "0.50"
                                },
                                {
                                    "0": "DWConfiguration",
                                    "1": "/var/opt/mssql/data/DWConfiguration.mdf",
                                    "2": "0.01"
                                },
                                {
                                    "0": "DWQueue",
                                    "1": "/var/opt/mssql/data/DWQueue.mdf",
                                    "2": "0.01"
                                },
                                {
                                    "0": "WideWorldImporters",
                                    "1": "/var/opt/mssql/data/WideWorldImporters.mdf",
                                    "2": "1.02"
                                },
                                {
                                    "0": "WideWorldImporters",
                                    "1": "/var/opt/mssql/data/WideWorldImporters_UserData.ndf",
                                    "2": "2.05"
                                }
                            ]
                        },
                        "text/html": "<table><tr><th>Database Name</th><th>Location on Disk</th><th>Size (GB)</th></tr><tr><td>master</td><td>/var/opt/mssql/data/master.mdf</td><td>0.00</td></tr><tr><td>tempdb</td><td>/var/opt/mssql/data/tempdb.mdf</td><td>0.01</td></tr><tr><td>model</td><td>/var/opt/mssql/data/model.mdf</td><td>0.01</td></tr><tr><td>msdb</td><td>/var/opt/mssql/data/MSDBData.mdf</td><td>0.01</td></tr><tr><td>DWDiagnostics</td><td>/var/opt/mssql/data/DWDiagnostics.mdf</td><td>0.50</td></tr><tr><td>DWConfiguration</td><td>/var/opt/mssql/data/DWConfiguration.mdf</td><td>0.01</td></tr><tr><td>DWQueue</td><td>/var/opt/mssql/data/DWQueue.mdf</td><td>0.01</td></tr><tr><td>WideWorldImporters</td><td>/var/opt/mssql/data/WideWorldImporters.mdf</td><td>1.02</td></tr><tr><td>WideWorldImporters</td><td>/var/opt/mssql/data/WideWorldImporters_UserData.ndf</td><td>2.05</td></tr></table>"
                    },
                    "metadata": {}
                },
                {
                    "output_type": "display_data",
                    "data": {
                        "text/html": "Total execution time: 00:00:00.1010515"
                    },
                    "metadata": {}
                },
                {
                    "output_type": "execute_result",
                    "execution_count": 1,
                    "data": {
                        "application/vnd.dataresource+json": {
                            "schema": {
                                "fields": [
                                    {
                                        "name": "database_id"
                                    },
                                    {
                                        "name": "file_id"
                                    },
                                    {
                                        "name": "file_guid"
                                    },
                                    {
                                        "name": "type"
                                    },
                                    {
                                        "name": "type_desc"
                                    },
                                    {
                                        "name": "data_space_id"
                                    },
                                    {
                                        "name": "name"
                                    },
                                    {
                                        "name": "physical_name"
                                    },
                                    {
                                        "name": "state"
                                    },
                                    {
                                        "name": "state_desc"
                                    },
                                    {
                                        "name": "size"
                                    },
                                    {
                                        "name": "max_size"
                                    },
                                    {
                                        "name": "growth"
                                    },
                                    {
                                        "name": "is_media_read_only"
                                    },
                                    {
                                        "name": "is_read_only"
                                    },
                                    {
                                        "name": "is_sparse"
                                    },
                                    {
                                        "name": "is_percent_growth"
                                    },
                                    {
                                        "name": "is_name_reserved"
                                    },
                                    {
                                        "name": "is_persistent_log_buffer"
                                    },
                                    {
                                        "name": "create_lsn"
                                    },
                                    {
                                        "name": "drop_lsn"
                                    },
                                    {
                                        "name": "read_only_lsn"
                                    },
                                    {
                                        "name": "read_write_lsn"
                                    },
                                    {
                                        "name": "differential_base_lsn"
                                    },
                                    {
                                        "name": "differential_base_guid"
                                    },
                                    {
                                        "name": "differential_base_time"
                                    },
                                    {
                                        "name": "redo_start_lsn"
                                    },
                                    {
                                        "name": "redo_start_fork_guid"
                                    },
                                    {
                                        "name": "redo_target_lsn"
                                    },
                                    {
                                        "name": "redo_target_fork_guid"
                                    },
                                    {
                                        "name": "backup_lsn"
                                    },
                                    {
                                        "name": "credential_id"
                                    }
                                ]
                            },
                            "data": [
                                {
                                    "0": "1",
                                    "1": "1",
                                    "2": "NULL",
                                    "3": "0",
                                    "4": "ROWS",
                                    "5": "1",
                                    "6": "master",
                                    "7": "/var/opt/mssql/data/master.mdf",
                                    "8": "0",
                                    "9": "ONLINE",
                                    "10": "512",
                                    "11": "-1",
                                    "12": "10",
                                    "13": "0",
                                    "14": "0",
                                    "15": "0",
                                    "16": "1",
                                    "17": "0",
                                    "18": "0",
                                    "19": "NULL",
                                    "20": "NULL",
                                    "21": "NULL",
                                    "22": "NULL",
                                    "23": "NULL",
                                    "24": "NULL",
                                    "25": "NULL",
                                    "26": "NULL",
                                    "27": "NULL",
                                    "28": "NULL",
                                    "29": "NULL",
                                    "30": "NULL",
                                    "31": "NULL"
                                },
                                {
                                    "0": "1",
                                    "1": "2",
                                    "2": "NULL",
                                    "3": "1",
                                    "4": "LOG",
                                    "5": "0",
                                    "6": "mastlog",
                                    "7": "/var/opt/mssql/data/mastlog.ldf",
                                    "8": "0",
                                    "9": "ONLINE",
                                    "10": "256",
                                    "11": "-1",
                                    "12": "10",
                                    "13": "0",
                                    "14": "0",
                                    "15": "0",
                                    "16": "1",
                                    "17": "0",
                                    "18": "0",
                                    "19": "NULL",
                                    "20": "NULL",
                                    "21": "NULL",
                                    "22": "NULL",
                                    "23": "NULL",
                                    "24": "NULL",
                                    "25": "NULL",
                                    "26": "NULL",
                                    "27": "NULL",
                                    "28": "NULL",
                                    "29": "NULL",
                                    "30": "NULL",
                                    "31": "NULL"
                                },
                                {
                                    "0": "2",
                                    "1": "1",
                                    "2": "NULL",
                                    "3": "0",
                                    "4": "ROWS",
                                    "5": "1",
                                    "6": "tempdev",
                                    "7": "/var/opt/mssql/data/tempdb.mdf",
                                    "8": "0",
                                    "9": "ONLINE",
                                    "10": "1024",
                                    "11": "-1",
                                    "12": "8192",
                                    "13": "0",
                                    "14": "0",
                                    "15": "0",
                                    "16": "0",
                                    "17": "0",
                                    "18": "0",
                                    "19": "NULL",
                                    "20": "NULL",
                                    "21": "NULL",
                                    "22": "NULL",
                                    "23": "NULL",
                                    "24": "NULL",
                                    "25": "NULL",
                                    "26": "NULL",
                                    "27": "NULL",
                                    "28": "NULL",
                                    "29": "NULL",
                                    "30": "NULL",
                                    "31": "NULL"
                                },
                                {
                                    "0": "2",
                                    "1": "2",
                                    "2": "NULL",
                                    "3": "1",
                                    "4": "LOG",
                                    "5": "0",
                                    "6": "templog",
                                    "7": "/var/opt/mssql/data/templog.ldf",
                                    "8": "0",
                                    "9": "ONLINE",
                                    "10": "1024",
                                    "11": "-1",
                                    "12": "8192",
                                    "13": "0",
                                    "14": "0",
                                    "15": "0",
                                    "16": "0",
                                    "17": "0",
                                    "18": "0",
                                    "19": "NULL",
                                    "20": "NULL",
                                    "21": "NULL",
                                    "22": "NULL",
                                    "23": "NULL",
                                    "24": "NULL",
                                    "25": "NULL",
                                    "26": "NULL",
                                    "27": "NULL",
                                    "28": "NULL",
                                    "29": "NULL",
                                    "30": "NULL",
                                    "31": "NULL"
                                },
                                {
                                    "0": "3",
                                    "1": "1",
                                    "2": "NULL",
                                    "3": "0",
                                    "4": "ROWS",
                                    "5": "1",
                                    "6": "modeldev",
                                    "7": "/var/opt/mssql/data/model.mdf",
                                    "8": "0",
                                    "9": "ONLINE",
                                    "10": "1024",
                                    "11": "-1",
                                    "12": "8192",
                                    "13": "0",
                                    "14": "0",
                                    "15": "0",
                                    "16": "0",
                                    "17": "0",
                                    "18": "0",
                                    "19": "NULL",
                                    "20": "NULL",
                                    "21": "NULL",
                                    "22": "NULL",
                                    "23": "NULL",
                                    "24": "NULL",
                                    "25": "NULL",
                                    "26": "NULL",
                                    "27": "NULL",
                                    "28": "NULL",
                                    "29": "NULL",
                                    "30": "NULL",
                                    "31": "NULL"
                                },
                                {
                                    "0": "3",
                                    "1": "2",
                                    "2": "NULL",
                                    "3": "1",
                                    "4": "LOG",
                                    "5": "0",
                                    "6": "modellog",
                                    "7": "/var/opt/mssql/data/modellog.ldf",
                                    "8": "0",
                                    "9": "ONLINE",
                                    "10": "1024",
                                    "11": "-1",
                                    "12": "8192",
                                    "13": "0",
                                    "14": "0",
                                    "15": "0",
                                    "16": "0",
                                    "17": "0",
                                    "18": "0",
                                    "19": "NULL",
                                    "20": "NULL",
                                    "21": "NULL",
                                    "22": "NULL",
                                    "23": "NULL",
                                    "24": "NULL",
                                    "25": "NULL",
                                    "26": "NULL",
                                    "27": "NULL",
                                    "28": "NULL",
                                    "29": "NULL",
                                    "30": "NULL",
                                    "31": "NULL"
                                },
                                {
                                    "0": "4",
                                    "1": "1",
                                    "2": "4be50d2f-9f79-4a2c-a584-a0c9210fbec8",
                                    "3": "0",
                                    "4": "ROWS",
                                    "5": "1",
                                    "6": "MSDBData",
                                    "7": "/var/opt/mssql/data/MSDBData.mdf",
                                    "8": "0",
                                    "9": "ONLINE",
                                    "10": "1888",
                                    "11": "-1",
                                    "12": "10",
                                    "13": "0",
                                    "14": "0",
                                    "15": "0",
                                    "16": "1",
                                    "17": "0",
                                    "18": "0",
                                    "19": "NULL",
                                    "20": "NULL",
                                    "21": "NULL",
                                    "22": "NULL",
                                    "23": "NULL",
                                    "24": "NULL",
                                    "25": "NULL",
                                    "26": "NULL",
                                    "27": "NULL",
                                    "28": "NULL",
                                    "29": "NULL",
                                    "30": "NULL",
                                    "31": "NULL"
                                },
                                {
                                    "0": "4",
                                    "1": "2",
                                    "2": "9a1668bd-0f07-479e-af8b-c2d4e50a197c",
                                    "3": "1",
                                    "4": "LOG",
                                    "5": "0",
                                    "6": "MSDBLog",
                                    "7": "/var/opt/mssql/data/MSDBLog.ldf",
                                    "8": "0",
                                    "9": "ONLINE",
                                    "10": "64",
                                    "11": "268435456",
                                    "12": "10",
                                    "13": "0",
                                    "14": "0",
                                    "15": "0",
                                    "16": "1",
                                    "17": "0",
                                    "18": "0",
                                    "19": "NULL",
                                    "20": "NULL",
                                    "21": "NULL",
                                    "22": "NULL",
                                    "23": "NULL",
                                    "24": "NULL",
                                    "25": "NULL",
                                    "26": "NULL",
                                    "27": "NULL",
                                    "28": "NULL",
                                    "29": "NULL",
                                    "30": "NULL",
                                    "31": "NULL"
                                },
                                {
                                    "0": "5",
                                    "1": "1",
                                    "2": "20937565-9169-4a14-81d9-c0e78391e3ef",
                                    "3": "0",
                                    "4": "ROWS",
                                    "5": "1",
                                    "6": "DWDiagnostics",
                                    "7": "/var/opt/mssql/data/DWDiagnostics.mdf",
                                    "8": "0",
                                    "9": "ONLINE",
                                    "10": "64000",
                                    "11": "256000",
                                    "12": "8192",
                                    "13": "0",
                                    "14": "0",
                                    "15": "0",
                                    "16": "0",
                                    "17": "0",
                                    "18": "0",
                                    "19": "NULL",
                                    "20": "NULL",
                                    "21": "NULL",
                                    "22": "NULL",
                                    "23": "NULL",
                                    "24": "NULL",
                                    "25": "NULL",
                                    "26": "NULL",
                                    "27": "NULL",
                                    "28": "NULL",
                                    "29": "NULL",
                                    "30": "NULL",
                                    "31": "NULL"
                                },
                                {
                                    "0": "5",
                                    "1": "2",
                                    "2": "f2b8c0e2-2ba4-4d4d-ac7a-575a5ea0716a",
                                    "3": "1",
                                    "4": "LOG",
                                    "5": "0",
                                    "6": "DWDiagnostics_log",
                                    "7": "/var/opt/mssql/data/DWDiagnostics_log.ldf",
                                    "8": "0",
                                    "9": "ONLINE",
                                    "10": "1024",
                                    "11": "268435456",
                                    "12": "8192",
                                    "13": "0",
                                    "14": "0",
                                    "15": "0",
                                    "16": "0",
                                    "17": "0",
                                    "18": "0",
                                    "19": "NULL",
                                    "20": "NULL",
                                    "21": "NULL",
                                    "22": "NULL",
                                    "23": "NULL",
                                    "24": "NULL",
                                    "25": "NULL",
                                    "26": "NULL",
                                    "27": "NULL",
                                    "28": "NULL",
                                    "29": "NULL",
                                    "30": "NULL",
                                    "31": "NULL"
                                },
                                {
                                    "0": "6",
                                    "1": "1",
                                    "2": "ecc8556d-fd1d-4760-8ffd-3a3c472d7326",
                                    "3": "0",
                                    "4": "ROWS",
                                    "5": "1",
                                    "6": "DWConfiguration",
                                    "7": "/var/opt/mssql/data/DWConfiguration.mdf",
                                    "8": "0",
                                    "9": "ONLINE",
                                    "10": "1024",
                                    "11": "-1",
                                    "12": "8192",
                                    "13": "0",
                                    "14": "0",
                                    "15": "0",
                                    "16": "0",
                                    "17": "0",
                                    "18": "0",
                                    "19": "NULL",
                                    "20": "NULL",
                                    "21": "NULL",
                                    "22": "NULL",
                                    "23": "NULL",
                                    "24": "NULL",
                                    "25": "NULL",
                                    "26": "NULL",
                                    "27": "NULL",
                                    "28": "NULL",
                                    "29": "NULL",
                                    "30": "NULL",
                                    "31": "NULL"
                                },
                                {
                                    "0": "6",
                                    "1": "2",
                                    "2": "6b2535e5-151e-444f-bcc3-f3d798a860ad",
                                    "3": "1",
                                    "4": "LOG",
                                    "5": "0",
                                    "6": "DWConfiguration_log",
                                    "7": "/var/opt/mssql/data/DWConfiguration_log.ldf",
                                    "8": "0",
                                    "9": "ONLINE",
                                    "10": "1024",
                                    "11": "268435456",
                                    "12": "8192",
                                    "13": "0",
                                    "14": "0",
                                    "15": "0",
                                    "16": "0",
                                    "17": "0",
                                    "18": "0",
                                    "19": "NULL",
                                    "20": "NULL",
                                    "21": "NULL",
                                    "22": "NULL",
                                    "23": "NULL",
                                    "24": "NULL",
                                    "25": "NULL",
                                    "26": "NULL",
                                    "27": "NULL",
                                    "28": "NULL",
                                    "29": "NULL",
                                    "30": "NULL",
                                    "31": "NULL"
                                },
                                {
                                    "0": "7",
                                    "1": "1",
                                    "2": "33ed0ba7-f35d-4e66-8f13-6b92aa6c551e",
                                    "3": "0",
                                    "4": "ROWS",
                                    "5": "1",
                                    "6": "DWQueue",
                                    "7": "/var/opt/mssql/data/DWQueue.mdf",
                                    "8": "0",
                                    "9": "ONLINE",
                                    "10": "1024",
                                    "11": "-1",
                                    "12": "8192",
                                    "13": "0",
                                    "14": "0",
                                    "15": "0",
                                    "16": "0",
                                    "17": "0",
                                    "18": "0",
                                    "19": "NULL",
                                    "20": "NULL",
                                    "21": "NULL",
                                    "22": "NULL",
                                    "23": "NULL",
                                    "24": "NULL",
                                    "25": "NULL",
                                    "26": "NULL",
                                    "27": "NULL",
                                    "28": "NULL",
                                    "29": "NULL",
                                    "30": "NULL",
                                    "31": "NULL"
                                },
                                {
                                    "0": "7",
                                    "1": "2",
                                    "2": "d607f974-dfa5-44f9-b022-202a1b231324",
                                    "3": "1",
                                    "4": "LOG",
                                    "5": "0",
                                    "6": "DWQueue_log",
                                    "7": "/var/opt/mssql/data/DWQueue_log.ldf",
                                    "8": "0",
                                    "9": "ONLINE",
                                    "10": "1024",
                                    "11": "268435456",
                                    "12": "8192",
                                    "13": "0",
                                    "14": "0",
                                    "15": "0",
                                    "16": "0",
                                    "17": "0",
                                    "18": "0",
                                    "19": "NULL",
                                    "20": "NULL",
                                    "21": "NULL",
                                    "22": "NULL",
                                    "23": "NULL",
                                    "24": "NULL",
                                    "25": "NULL",
                                    "26": "NULL",
                                    "27": "NULL",
                                    "28": "NULL",
                                    "29": "NULL",
                                    "30": "NULL",
                                    "31": "NULL"
                                },
                                {
                                    "0": "8",
                                    "1": "1",
                                    "2": "8d30f4f9-a463-404f-805a-9bd1c634b66b",
                                    "3": "0",
                                    "4": "ROWS",
                                    "5": "1",
                                    "6": "WWI_Primary",
                                    "7": "/var/opt/mssql/data/WideWorldImporters.mdf",
                                    "8": "0",
                                    "9": "ONLINE",
                                    "10": "131072",
                                    "11": "-1",
                                    "12": "8192",
                                    "13": "0",
                                    "14": "0",
                                    "15": "0",
                                    "16": "0",
                                    "17": "0",
                                    "18": "0",
                                    "19": "NULL",
                                    "20": "NULL",
                                    "21": "NULL",
                                    "22": "NULL",
                                    "23": "627000001931200001",
                                    "24": "8b027ed4-621c-4065-ba05-1b788a9be110",
                                    "25": "2019-03-29 16:02:30.000",
                                    "26": "NULL",
                                    "27": "NULL",
                                    "28": "NULL",
                                    "29": "NULL",
                                    "30": "NULL",
                                    "31": "NULL"
                                },
                                {
                                    "0": "8",
                                    "1": "2",
                                    "2": "6ac6807e-8774-415b-8efc-e8c569b0855e",
                                    "3": "1",
                                    "4": "LOG",
                                    "5": "0",
                                    "6": "WWI_Log",
                                    "7": "/var/opt/mssql/data/WideWorldImporters.ldf",
                                    "8": "0",
                                    "9": "ONLINE",
                                    "10": "12800",
                                    "11": "268435456",
                                    "12": "8192",
                                    "13": "0",
                                    "14": "0",
                                    "15": "0",
                                    "16": "0",
                                    "17": "0",
                                    "18": "0",
                                    "19": "NULL",
                                    "20": "NULL",
                                    "21": "NULL",
                                    "22": "NULL",
                                    "23": "NULL",
                                    "24": "NULL",
                                    "25": "NULL",
                                    "26": "NULL",
                                    "27": "NULL",
                                    "28": "NULL",
                                    "29": "NULL",
                                    "30": "NULL",
                                    "31": "NULL"
                                },
                                {
                                    "0": "8",
                                    "1": "3",
                                    "2": "28d406e0-78ff-4400-9a4b-3a05d136b1f3",
                                    "3": "0",
                                    "4": "ROWS",
                                    "5": "2",
                                    "6": "WWI_UserData",
                                    "7": "/var/opt/mssql/data/WideWorldImporters_UserData.ndf",
                                    "8": "0",
                                    "9": "ONLINE",
                                    "10": "262144",
                                    "11": "-1",
                                    "12": "8192",
                                    "13": "0",
                                    "14": "0",
                                    "15": "0",
                                    "16": "0",
                                    "17": "0",
                                    "18": "0",
                                    "19": "37000000095200001",
                                    "20": "NULL",
                                    "21": "NULL",
                                    "22": "NULL",
                                    "23": "627000001931200001",
                                    "24": "8b027ed4-621c-4065-ba05-1b788a9be110",
                                    "25": "2019-03-29 16:02:30.000",
                                    "26": "NULL",
                                    "27": "NULL",
                                    "28": "NULL",
                                    "29": "NULL",
                                    "30": "NULL",
                                    "31": "NULL"
                                },
                                {
                                    "0": "8",
                                    "1": "65537",
                                    "2": "f65663c8-a250-433e-bbe6-e13a5599a607",
                                    "3": "2",
                                    "4": "FILESTREAM",
                                    "5": "3",
                                    "6": "WWI_InMemory_Data_1",
                                    "7": "/var/opt/mssql/data/WideWorldImporters_InMemory_Data_1",
                                    "8": "0",
                                    "9": "ONLINE",
                                    "10": "0",
                                    "11": "-1",
                                    "12": "0",
                                    "13": "0",
                                    "14": "0",
                                    "15": "0",
                                    "16": "0",
                                    "17": "0",
                                    "18": "0",
                                    "19": "624000000336200003",
                                    "20": "NULL",
                                    "21": "NULL",
                                    "22": "NULL",
                                    "23": "627000001931200001",
                                    "24": "8b027ed4-621c-4065-ba05-1b788a9be110",
                                    "25": "2019-04-29 16:27:49.070",
                                    "26": "NULL",
                                    "27": "NULL",
                                    "28": "NULL",
                                    "29": "NULL",
                                    "30": "NULL",
                                    "31": "NULL"
                                }
                            ]
                        },
                        "text/html": "<table><tr><th>database_id</th><th>file_id</th><th>file_guid</th><th>type</th><th>type_desc</th><th>data_space_id</th><th>name</th><th>physical_name</th><th>state</th><th>state_desc</th><th>size</th><th>max_size</th><th>growth</th><th>is_media_read_only</th><th>is_read_only</th><th>is_sparse</th><th>is_percent_growth</th><th>is_name_reserved</th><th>is_persistent_log_buffer</th><th>create_lsn</th><th>drop_lsn</th><th>read_only_lsn</th><th>read_write_lsn</th><th>differential_base_lsn</th><th>differential_base_guid</th><th>differential_base_time</th><th>redo_start_lsn</th><th>redo_start_fork_guid</th><th>redo_target_lsn</th><th>redo_target_fork_guid</th><th>backup_lsn</th><th>credential_id</th></tr><tr><td>1</td><td>1</td><td>NULL</td><td>0</td><td>ROWS</td><td>1</td><td>master</td><td>/var/opt/mssql/data/master.mdf</td><td>0</td><td>ONLINE</td><td>512</td><td>-1</td><td>10</td><td>0</td><td>0</td><td>0</td><td>1</td><td>0</td><td>0</td><td>NULL</td><td>NULL</td><td>NULL</td><td>NULL</td><td>NULL</td><td>NULL</td><td>NULL</td><td>NULL</td><td>NULL</td><td>NULL</td><td>NULL</td><td>NULL</td><td>NULL</td></tr><tr><td>1</td><td>2</td><td>NULL</td><td>1</td><td>LOG</td><td>0</td><td>mastlog</td><td>/var/opt/mssql/data/mastlog.ldf</td><td>0</td><td>ONLINE</td><td>256</td><td>-1</td><td>10</td><td>0</td><td>0</td><td>0</td><td>1</td><td>0</td><td>0</td><td>NULL</td><td>NULL</td><td>NULL</td><td>NULL</td><td>NULL</td><td>NULL</td><td>NULL</td><td>NULL</td><td>NULL</td><td>NULL</td><td>NULL</td><td>NULL</td><td>NULL</td></tr><tr><td>2</td><td>1</td><td>NULL</td><td>0</td><td>ROWS</td><td>1</td><td>tempdev</td><td>/var/opt/mssql/data/tempdb.mdf</td><td>0</td><td>ONLINE</td><td>1024</td><td>-1</td><td>8192</td><td>0</td><td>0</td><td>0</td><td>0</td><td>0</td><td>0</td><td>NULL</td><td>NULL</td><td>NULL</td><td>NULL</td><td>NULL</td><td>NULL</td><td>NULL</td><td>NULL</td><td>NULL</td><td>NULL</td><td>NULL</td><td>NULL</td><td>NULL</td></tr><tr><td>2</td><td>2</td><td>NULL</td><td>1</td><td>LOG</td><td>0</td><td>templog</td><td>/var/opt/mssql/data/templog.ldf</td><td>0</td><td>ONLINE</td><td>1024</td><td>-1</td><td>8192</td><td>0</td><td>0</td><td>0</td><td>0</td><td>0</td><td>0</td><td>NULL</td><td>NULL</td><td>NULL</td><td>NULL</td><td>NULL</td><td>NULL</td><td>NULL</td><td>NULL</td><td>NULL</td><td>NULL</td><td>NULL</td><td>NULL</td><td>NULL</td></tr><tr><td>3</td><td>1</td><td>NULL</td><td>0</td><td>ROWS</td><td>1</td><td>modeldev</td><td>/var/opt/mssql/data/model.mdf</td><td>0</td><td>ONLINE</td><td>1024</td><td>-1</td><td>8192</td><td>0</td><td>0</td><td>0</td><td>0</td><td>0</td><td>0</td><td>NULL</td><td>NULL</td><td>NULL</td><td>NULL</td><td>NULL</td><td>NULL</td><td>NULL</td><td>NULL</td><td>NULL</td><td>NULL</td><td>NULL</td><td>NULL</td><td>NULL</td></tr><tr><td>3</td><td>2</td><td>NULL</td><td>1</td><td>LOG</td><td>0</td><td>modellog</td><td>/var/opt/mssql/data/modellog.ldf</td><td>0</td><td>ONLINE</td><td>1024</td><td>-1</td><td>8192</td><td>0</td><td>0</td><td>0</td><td>0</td><td>0</td><td>0</td><td>NULL</td><td>NULL</td><td>NULL</td><td>NULL</td><td>NULL</td><td>NULL</td><td>NULL</td><td>NULL</td><td>NULL</td><td>NULL</td><td>NULL</td><td>NULL</td><td>NULL</td></tr><tr><td>4</td><td>1</td><td>4be50d2f-9f79-4a2c-a584-a0c9210fbec8</td><td>0</td><td>ROWS</td><td>1</td><td>MSDBData</td><td>/var/opt/mssql/data/MSDBData.mdf</td><td>0</td><td>ONLINE</td><td>1888</td><td>-1</td><td>10</td><td>0</td><td>0</td><td>0</td><td>1</td><td>0</td><td>0</td><td>NULL</td><td>NULL</td><td>NULL</td><td>NULL</td><td>NULL</td><td>NULL</td><td>NULL</td><td>NULL</td><td>NULL</td><td>NULL</td><td>NULL</td><td>NULL</td><td>NULL</td></tr><tr><td>4</td><td>2</td><td>9a1668bd-0f07-479e-af8b-c2d4e50a197c</td><td>1</td><td>LOG</td><td>0</td><td>MSDBLog</td><td>/var/opt/mssql/data/MSDBLog.ldf</td><td>0</td><td>ONLINE</td><td>64</td><td>268435456</td><td>10</td><td>0</td><td>0</td><td>0</td><td>1</td><td>0</td><td>0</td><td>NULL</td><td>NULL</td><td>NULL</td><td>NULL</td><td>NULL</td><td>NULL</td><td>NULL</td><td>NULL</td><td>NULL</td><td>NULL</td><td>NULL</td><td>NULL</td><td>NULL</td></tr><tr><td>5</td><td>1</td><td>20937565-9169-4a14-81d9-c0e78391e3ef</td><td>0</td><td>ROWS</td><td>1</td><td>DWDiagnostics</td><td>/var/opt/mssql/data/DWDiagnostics.mdf</td><td>0</td><td>ONLINE</td><td>64000</td><td>256000</td><td>8192</td><td>0</td><td>0</td><td>0</td><td>0</td><td>0</td><td>0</td><td>NULL</td><td>NULL</td><td>NULL</td><td>NULL</td><td>NULL</td><td>NULL</td><td>NULL</td><td>NULL</td><td>NULL</td><td>NULL</td><td>NULL</td><td>NULL</td><td>NULL</td></tr><tr><td>5</td><td>2</td><td>f2b8c0e2-2ba4-4d4d-ac7a-575a5ea0716a</td><td>1</td><td>LOG</td><td>0</td><td>DWDiagnostics_log</td><td>/var/opt/mssql/data/DWDiagnostics_log.ldf</td><td>0</td><td>ONLINE</td><td>1024</td><td>268435456</td><td>8192</td><td>0</td><td>0</td><td>0</td><td>0</td><td>0</td><td>0</td><td>NULL</td><td>NULL</td><td>NULL</td><td>NULL</td><td>NULL</td><td>NULL</td><td>NULL</td><td>NULL</td><td>NULL</td><td>NULL</td><td>NULL</td><td>NULL</td><td>NULL</td></tr><tr><td>6</td><td>1</td><td>ecc8556d-fd1d-4760-8ffd-3a3c472d7326</td><td>0</td><td>ROWS</td><td>1</td><td>DWConfiguration</td><td>/var/opt/mssql/data/DWConfiguration.mdf</td><td>0</td><td>ONLINE</td><td>1024</td><td>-1</td><td>8192</td><td>0</td><td>0</td><td>0</td><td>0</td><td>0</td><td>0</td><td>NULL</td><td>NULL</td><td>NULL</td><td>NULL</td><td>NULL</td><td>NULL</td><td>NULL</td><td>NULL</td><td>NULL</td><td>NULL</td><td>NULL</td><td>NULL</td><td>NULL</td></tr><tr><td>6</td><td>2</td><td>6b2535e5-151e-444f-bcc3-f3d798a860ad</td><td>1</td><td>LOG</td><td>0</td><td>DWConfiguration_log</td><td>/var/opt/mssql/data/DWConfiguration_log.ldf</td><td>0</td><td>ONLINE</td><td>1024</td><td>268435456</td><td>8192</td><td>0</td><td>0</td><td>0</td><td>0</td><td>0</td><td>0</td><td>NULL</td><td>NULL</td><td>NULL</td><td>NULL</td><td>NULL</td><td>NULL</td><td>NULL</td><td>NULL</td><td>NULL</td><td>NULL</td><td>NULL</td><td>NULL</td><td>NULL</td></tr><tr><td>7</td><td>1</td><td>33ed0ba7-f35d-4e66-8f13-6b92aa6c551e</td><td>0</td><td>ROWS</td><td>1</td><td>DWQueue</td><td>/var/opt/mssql/data/DWQueue.mdf</td><td>0</td><td>ONLINE</td><td>1024</td><td>-1</td><td>8192</td><td>0</td><td>0</td><td>0</td><td>0</td><td>0</td><td>0</td><td>NULL</td><td>NULL</td><td>NULL</td><td>NULL</td><td>NULL</td><td>NULL</td><td>NULL</td><td>NULL</td><td>NULL</td><td>NULL</td><td>NULL</td><td>NULL</td><td>NULL</td></tr><tr><td>7</td><td>2</td><td>d607f974-dfa5-44f9-b022-202a1b231324</td><td>1</td><td>LOG</td><td>0</td><td>DWQueue_log</td><td>/var/opt/mssql/data/DWQueue_log.ldf</td><td>0</td><td>ONLINE</td><td>1024</td><td>268435456</td><td>8192</td><td>0</td><td>0</td><td>0</td><td>0</td><td>0</td><td>0</td><td>NULL</td><td>NULL</td><td>NULL</td><td>NULL</td><td>NULL</td><td>NULL</td><td>NULL</td><td>NULL</td><td>NULL</td><td>NULL</td><td>NULL</td><td>NULL</td><td>NULL</td></tr><tr><td>8</td><td>1</td><td>8d30f4f9-a463-404f-805a-9bd1c634b66b</td><td>0</td><td>ROWS</td><td>1</td><td>WWI_Primary</td><td>/var/opt/mssql/data/WideWorldImporters.mdf</td><td>0</td><td>ONLINE</td><td>131072</td><td>-1</td><td>8192</td><td>0</td><td>0</td><td>0</td><td>0</td><td>0</td><td>0</td><td>NULL</td><td>NULL</td><td>NULL</td><td>NULL</td><td>627000001931200001</td><td>8b027ed4-621c-4065-ba05-1b788a9be110</td><td>2019-03-29 16:02:30.000</td><td>NULL</td><td>NULL</td><td>NULL</td><td>NULL</td><td>NULL</td><td>NULL</td></tr><tr><td>8</td><td>2</td><td>6ac6807e-8774-415b-8efc-e8c569b0855e</td><td>1</td><td>LOG</td><td>0</td><td>WWI_Log</td><td>/var/opt/mssql/data/WideWorldImporters.ldf</td><td>0</td><td>ONLINE</td><td>12800</td><td>268435456</td><td>8192</td><td>0</td><td>0</td><td>0</td><td>0</td><td>0</td><td>0</td><td>NULL</td><td>NULL</td><td>NULL</td><td>NULL</td><td>NULL</td><td>NULL</td><td>NULL</td><td>NULL</td><td>NULL</td><td>NULL</td><td>NULL</td><td>NULL</td><td>NULL</td></tr><tr><td>8</td><td>3</td><td>28d406e0-78ff-4400-9a4b-3a05d136b1f3</td><td>0</td><td>ROWS</td><td>2</td><td>WWI_UserData</td><td>/var/opt/mssql/data/WideWorldImporters_UserData.ndf</td><td>0</td><td>ONLINE</td><td>262144</td><td>-1</td><td>8192</td><td>0</td><td>0</td><td>0</td><td>0</td><td>0</td><td>0</td><td>37000000095200001</td><td>NULL</td><td>NULL</td><td>NULL</td><td>627000001931200001</td><td>8b027ed4-621c-4065-ba05-1b788a9be110</td><td>2019-03-29 16:02:30.000</td><td>NULL</td><td>NULL</td><td>NULL</td><td>NULL</td><td>NULL</td><td>NULL</td></tr><tr><td>8</td><td>65537</td><td>f65663c8-a250-433e-bbe6-e13a5599a607</td><td>2</td><td>FILESTREAM</td><td>3</td><td>WWI_InMemory_Data_1</td><td>/var/opt/mssql/data/WideWorldImporters_InMemory_Data_1</td><td>0</td><td>ONLINE</td><td>0</td><td>-1</td><td>0</td><td>0</td><td>0</td><td>0</td><td>0</td><td>0</td><td>0</td><td>624000000336200003</td><td>NULL</td><td>NULL</td><td>NULL</td><td>627000001931200001</td><td>8b027ed4-621c-4065-ba05-1b788a9be110</td><td>2019-04-29 16:27:49.070</td><td>NULL</td><td>NULL</td><td>NULL</td><td>NULL</td><td>NULL</td><td>NULL</td></tr></table>"
                    },
                    "metadata": {}
                }
            ],
            "execution_count": 1
        },
        {
            "cell_type": "markdown",
            "source": [
                "## Ingest data into the SQL Server Databases\r\n",
                "\r\n",
                "Before you start working with data, you need to briloadng it in to the system. \r\n",
                "\r\n",
                "You have several options to do that, from the `bcp` utility to SQL Server Integration Services, the Azure Data Factory and more. \r\n",
                "\r\n",
                "For the structured data, you'll use the SQL Server `RESTORE` command to bring in two databases from the location we specified earlier with the `kubectl` command.\r\n",
                "\r\n",
                "The Code below shows all of that: "
            ],
            "metadata": {
                "azdata_cell_guid": "0af26209-79fc-45ba-9c65-fd5bca373823"
            }
        },
        {
            "cell_type": "code",
            "source": [
                "/* Add the Customer Databases to the cluster */\r\n",
                "USE [master]\r\n",
                "RESTORE DATABASE [analysis] FROM  DISK = N'/var/opt/mssql/data/analysis.bak' \r\n",
                "WITH  FILE = 1\r\n",
                ",  MOVE N'tpcxbb_1gb' TO N'/var/opt/mssql/data/analysis.mdf'\r\n",
                ",  MOVE N'tpcxbb_1gb_log' TO N'/var/opt/mssql/data/analysis.ldf'\r\n",
                ",  NOUNLOAD\r\n",
                ",  REPLACE\r\n",
                ",  STATS = 5\r\n",
                "GO\r\n",
                "\r\n",
                "USE [master]\r\n",
                "RESTORE DATABASE [sales] FROM  DISK = N'/var/opt/mssql/data/sales.bak' \r\n",
                "WITH  FILE = 1\r\n",
                ",  MOVE N'tpcxbb_1gb' TO N'/var/opt/mssql/data/sales.mdf'\r\n",
                ",  MOVE N'tpcxbb_1gb_log' TO N'/var/opt/mssql/data/sales.ldf'\r\n",
                ",  NOUNLOAD\r\n",
                ",  REPLACE\r\n",
                ",  STATS = 5\r\n",
                "GO\r\n",
                "\r\n",
                "USE [master]\r\n",
                "RESTORE DATABASE [WideWorldImporters] FROM  DISK = N'/var/opt/mssql/data/WWI.bak' WITH  FILE = 1\r\n",
                ",  MOVE N'WWI_Primary' TO N'/var/opt/mssql/data/WideWorldImporters.mdf'\r\n",
                ",  MOVE N'WWI_UserData' TO N'/var/opt/mssql/data/WideWorldImporters_UserData.ndf'\r\n",
                ",  MOVE N'WWI_Log' TO N'/var/opt/mssql/data/WideWorldImporters.ldf'\r\n",
                ",  MOVE N'WWI_InMemory_Data_1' TO N'/var/opt/mssql/data/WideWorldImporters_InMemory_Data_1'\r\n",
                ",  NOUNLOAD\r\n",
                ",  REPLACE\r\n",
                ",  STATS = 5\r\n",
                "GO\r\n",
                "\r\n",
                "USE [master]\r\n",
                "RESTORE DATABASE [AdventureWorks] FROM  DISK = N'/var/opt/mssql/data/AdventureWorks.bak' \r\n",
                "WITH  FILE = 1\r\n",
                ",  MOVE N'AdventureWorks2017' TO N'/var/opt/mssql/data/AdventureWorks2017.mdf'\r\n",
                ",  MOVE N'AdventureWorks2017_log' TO N'/var/opt/mssql/data/AdventureWorks2017_log.ldf'\r\n",
                ",  NOUNLOAD\r\n",
                ",  REPLACE\r\n",
                ",  STATS = 5\r\n",
                "GO\r\n",
                "\r\n",
                "USE [master]\r\n",
                "RESTORE DATABASE [AdventureWorksDW] FROM  DISK = N'/var/opt/mssql/data/AdventureWorksDW.bak' \r\n",
                "WITH  FILE = 1,  MOVE N'AdventureWorksDW2017' TO N'/var/opt/mssql/data/AdventureWorksDW.mdf'\r\n",
                ",  MOVE N'AdventureWorksDW2017_log' TO N'/var/opt/mssql/data/AdventureWorksDW_log.ldf'\r\n",
                ",  NOUNLOAD\r\n",
                ",  REPLACE\r\n",
                ",  STATS = 5\r\n",
                "GO\r\n",
                "\r\n",
                "USE [master]\r\n",
                "RESTORE DATABASE [NYC] FROM  DISK = N'/var/opt/mssql/data/NYC.bak' \r\n",
                "WITH  FILE = 1\r\n",
                ",  MOVE N'NYCTaxi_Sample' TO N'/var/opt/mssql/data/NYC.mdf'\r\n",
                ",  MOVE N'NYCTaxi_Sample_log' TO N'/var/opt/mssql/data/NYC_0.ldf'\r\n",
                ",  NOUNLOAD\r\n",
                ",  REPLACE\r\n",
                ",  STATS = 5\r\n",
                "GO\r\n",
                ""
            ],
            "metadata": {
                "azdata_cell_guid": "2f79c85c-9896-4522-836e-016f94939d09"
            },
            "outputs": [
                {
                    "output_type": "display_data",
                    "data": {
                        "text/html": "5 percent processed."
                    },
                    "metadata": {}
                },
                {
                    "output_type": "display_data",
                    "data": {
                        "text/html": "10 percent processed."
                    },
                    "metadata": {}
                },
                {
                    "output_type": "display_data",
                    "data": {
                        "text/html": "15 percent processed."
                    },
                    "metadata": {}
                },
                {
                    "output_type": "display_data",
                    "data": {
                        "text/html": "20 percent processed."
                    },
                    "metadata": {}
                },
                {
                    "output_type": "display_data",
                    "data": {
                        "text/html": "25 percent processed."
                    },
                    "metadata": {}
                },
                {
                    "output_type": "display_data",
                    "data": {
                        "text/html": "30 percent processed."
                    },
                    "metadata": {}
                },
                {
                    "output_type": "display_data",
                    "data": {
                        "text/html": "35 percent processed."
                    },
                    "metadata": {}
                },
                {
                    "output_type": "display_data",
                    "data": {
                        "text/html": "40 percent processed."
                    },
                    "metadata": {}
                },
                {
                    "output_type": "display_data",
                    "data": {
                        "text/html": "45 percent processed."
                    },
                    "metadata": {}
                },
                {
                    "output_type": "display_data",
                    "data": {
                        "text/html": "50 percent processed."
                    },
                    "metadata": {}
                },
                {
                    "output_type": "display_data",
                    "data": {
                        "text/html": "55 percent processed."
                    },
                    "metadata": {}
                },
                {
                    "output_type": "display_data",
                    "data": {
                        "text/html": "60 percent processed."
                    },
                    "metadata": {}
                },
                {
                    "output_type": "display_data",
                    "data": {
                        "text/html": "65 percent processed."
                    },
                    "metadata": {}
                },
                {
                    "output_type": "display_data",
                    "data": {
                        "text/html": "70 percent processed."
                    },
                    "metadata": {}
                },
                {
                    "output_type": "display_data",
                    "data": {
                        "text/html": "Processed 1320 pages for database 'WideWorldImporters', file 'WWI_Primary' on file 1."
                    },
                    "metadata": {}
                },
                {
                    "output_type": "display_data",
                    "data": {
                        "text/html": "Processed 53104 pages for database 'WideWorldImporters', file 'WWI_UserData' on file 1."
                    },
                    "metadata": {}
                },
                {
                    "output_type": "display_data",
                    "data": {
                        "text/html": "Processed 1234 pages for database 'WideWorldImporters', file 'WWI_Log' on file 1."
                    },
                    "metadata": {}
                },
                {
                    "output_type": "display_data",
                    "data": {
                        "text/html": "Processed 3865 pages for database 'WideWorldImporters', file 'WWI_InMemory_Data_1' on file 1."
                    },
                    "metadata": {}
                },
                {
                    "output_type": "display_data",
                    "data": {
                        "text/html": "100 percent processed."
                    },
                    "metadata": {}
                },
                {
                    "output_type": "display_data",
                    "data": {
                        "text/html": "RESTORE DATABASE successfully processed 59523 pages in 48.814 seconds (9.526 MB/sec)."
                    },
                    "metadata": {}
                },
                {
                    "output_type": "display_data",
                    "data": {
                        "text/html": "Total execution time: 00:01:57.5590902"
                    },
                    "metadata": {}
                }
            ],
            "execution_count": 1
        },
        {
            "cell_type": "markdown",
            "source": [
                "## Query Data\r\n",
                "\r\n",
                "The SQL Server 2019 big data cluster Master Instance is a SQL Server Instance - and as such has most all of the query facilities and capabilities of Microsoft SQL Server running on Linux.\r\n",
                "\r\n",
                "In these queries you'll explore some customer information, in preparation for combining that information with external sources. You can add cells to this workbook to explore more. "
            ],
            "metadata": {
                "azdata_cell_guid": "7db932ab-1da7-41e4-9db3-aa869a81d59b"
            }
        },
        {
            "cell_type": "code",
            "source": [
                "/* Get some general information about the data in the WWI OLTP system */\r\n",
                "USE WideWorldImporters;\r\n",
                "GO\r\n",
                "\r\n",
                "/* Show the Populations. \r\n",
                "Where do we have the most people?\r\n",
                " */\r\n",
                "SELECT TOP 10 CityName as 'City Name'\r\n",
                ", StateProvinceName as 'State or Province'\r\n",
                ", sp.LatestRecordedPopulation as 'Population'\r\n",
                ", CountryName\r\n",
                "FROM Application.Cities AS city\r\n",
                "JOIN Application.StateProvinces AS sp ON\r\n",
                "    city.StateProvinceID = sp.StateProvinceID\r\n",
                "JOIN Application.Countries AS ctry ON \r\n",
                "    sp.CountryID=ctry.CountryID\r\n",
                "ORDER BY Population, CityName;\r\n",
                "GO\r\n",
                ""
            ],
            "metadata": {
                "azdata_cell_guid": "25130f1b-8b75-41e5-894b-ffb863f9b9b4"
            },
            "outputs": [
                {
                    "output_type": "display_data",
                    "data": {
                        "text/html": "Commands completed successfully."
                    },
                    "metadata": {}
                },
                {
                    "output_type": "display_data",
                    "data": {
                        "text/html": "Total execution time: 00:00:00.0447664"
                    },
                    "metadata": {}
                },
                {
                    "output_type": "display_data",
                    "data": {
                        "text/html": "(10 rows affected)"
                    },
                    "metadata": {}
                },
                {
                    "output_type": "display_data",
                    "data": {
                        "text/html": "Total execution time: 00:00:00.1285031"
                    },
                    "metadata": {}
                },
                {
                    "output_type": "execute_result",
                    "execution_count": 2,
                    "data": {
                        "application/vnd.dataresource+json": {
                            "schema": {
                                "fields": [
                                    {
                                        "name": "City Name"
                                    },
                                    {
                                        "name": "State or Province"
                                    },
                                    {
                                        "name": "Population"
                                    },
                                    {
                                        "name": "CountryName"
                                    }
                                ]
                            },
                            "data": [
                                {
                                    "0": "Charlotte Amalie",
                                    "1": "Virgin Islands (US Territory)",
                                    "2": "104737",
                                    "3": "United States"
                                },
                                {
                                    "0": "Christiansted",
                                    "1": "Virgin Islands (US Territory)",
                                    "2": "104737",
                                    "3": "United States"
                                },
                                {
                                    "0": "Cruz Bay",
                                    "1": "Virgin Islands (US Territory)",
                                    "2": "104737",
                                    "3": "United States"
                                },
                                {
                                    "0": "Frederiksted",
                                    "1": "Virgin Islands (US Territory)",
                                    "2": "104737",
                                    "3": "United States"
                                },
                                {
                                    "0": "Acme",
                                    "1": "Wyoming",
                                    "2": "605964",
                                    "3": "United States"
                                },
                                {
                                    "0": "Afton",
                                    "1": "Wyoming",
                                    "2": "605964",
                                    "3": "United States"
                                },
                                {
                                    "0": "Aladdin",
                                    "1": "Wyoming",
                                    "2": "605964",
                                    "3": "United States"
                                },
                                {
                                    "0": "Albany",
                                    "1": "Wyoming",
                                    "2": "605964",
                                    "3": "United States"
                                },
                                {
                                    "0": "Albin",
                                    "1": "Wyoming",
                                    "2": "605964",
                                    "3": "United States"
                                },
                                {
                                    "0": "Alcova",
                                    "1": "Wyoming",
                                    "2": "605964",
                                    "3": "United States"
                                }
                            ]
                        },
                        "text/html": "<table><tr><th>City Name</th><th>State or Province</th><th>Population</th><th>CountryName</th></tr><tr><td>Charlotte Amalie</td><td>Virgin Islands (US Territory)</td><td>104737</td><td>United States</td></tr><tr><td>Christiansted</td><td>Virgin Islands (US Territory)</td><td>104737</td><td>United States</td></tr><tr><td>Cruz Bay</td><td>Virgin Islands (US Territory)</td><td>104737</td><td>United States</td></tr><tr><td>Frederiksted</td><td>Virgin Islands (US Territory)</td><td>104737</td><td>United States</td></tr><tr><td>Acme</td><td>Wyoming</td><td>605964</td><td>United States</td></tr><tr><td>Afton</td><td>Wyoming</td><td>605964</td><td>United States</td></tr><tr><td>Aladdin</td><td>Wyoming</td><td>605964</td><td>United States</td></tr><tr><td>Albany</td><td>Wyoming</td><td>605964</td><td>United States</td></tr><tr><td>Albin</td><td>Wyoming</td><td>605964</td><td>United States</td></tr><tr><td>Alcova</td><td>Wyoming</td><td>605964</td><td>United States</td></tr></table>"
                    },
                    "metadata": {}
                }
            ],
            "execution_count": 2
        },
        {
            "cell_type": "code",
            "source": [
                "/* Show Customer Sales in WWI OLTP */\r\n",
                "USE WideWorldImporters;\r\n",
                "GO\r\n",
                "\r\n",
                "SELECT TOP 10 s.CustomerID\r\n",
                ", s.CustomerName\r\n",
                ", sc.CustomerCategoryName\r\n",
                ",  pp.FullName AS PrimaryContact\r\n",
                ",  ap.FullName AS AlternateContact\r\n",
                ",  s.PhoneNumber\r\n",
                ",  s.FaxNumber\r\n",
                ",  bg.BuyingGroupName\r\n",
                ",  s.WebsiteURL\r\n",
                ",  dm.DeliveryMethodName AS DeliveryMethod\r\n",
                ",  c.CityName AS CityName\r\n",
                ",  s.DeliveryLocation AS DeliveryLocation\r\n",
                ",  s.DeliveryRun\r\n",
                ",  s.RunPosition\r\n",
                "FROM Sales.Customers AS s\r\n",
                "    LEFT OUTER JOIN Sales.CustomerCategories AS sc\r\n",
                "    ON s.CustomerCategoryID = sc.CustomerCategoryID\r\n",
                "    LEFT OUTER JOIN [Application].People AS pp\r\n",
                "    ON s.PrimaryContactPersonID = pp.PersonID\r\n",
                "    LEFT OUTER JOIN [Application].People AS ap\r\n",
                "    ON s.AlternateContactPersonID = ap.PersonID\r\n",
                "    LEFT OUTER JOIN Sales.BuyingGroups AS bg\r\n",
                "    ON s.BuyingGroupID = bg.BuyingGroupID\r\n",
                "    LEFT OUTER JOIN [Application].DeliveryMethods AS dm\r\n",
                "    ON s.DeliveryMethodID = dm.DeliveryMethodID\r\n",
                "    LEFT OUTER JOIN [Application].Cities AS c\r\n",
                "    ON s.DeliveryCityID = c.CityID\r\n",
                "ORDER BY c.CityName"
            ],
            "metadata": {
                "azdata_cell_guid": "14036e3c-e53f-4fef-b21c-5198ea53f463"
            },
            "outputs": [
                {
                    "output_type": "display_data",
                    "data": {
                        "text/html": "Commands completed successfully."
                    },
                    "metadata": {}
                },
                {
                    "output_type": "display_data",
                    "data": {
                        "text/html": "Total execution time: 00:00:00.0417561"
                    },
                    "metadata": {}
                },
                {
                    "output_type": "display_data",
                    "data": {
                        "text/html": "(10 rows affected)"
                    },
                    "metadata": {}
                },
                {
                    "output_type": "display_data",
                    "data": {
                        "text/html": "Total execution time: 00:00:00.1599585"
                    },
                    "metadata": {}
                },
                {
                    "output_type": "execute_result",
                    "execution_count": 3,
                    "data": {
                        "application/vnd.dataresource+json": {
                            "schema": {
                                "fields": [
                                    {
                                        "name": "CustomerID"
                                    },
                                    {
                                        "name": "CustomerName"
                                    },
                                    {
                                        "name": "CustomerCategoryName"
                                    },
                                    {
                                        "name": "PrimaryContact"
                                    },
                                    {
                                        "name": "AlternateContact"
                                    },
                                    {
                                        "name": "PhoneNumber"
                                    },
                                    {
                                        "name": "FaxNumber"
                                    },
                                    {
                                        "name": "BuyingGroupName"
                                    },
                                    {
                                        "name": "WebsiteURL"
                                    },
                                    {
                                        "name": "DeliveryMethod"
                                    },
                                    {
                                        "name": "CityName"
                                    },
                                    {
                                        "name": "DeliveryLocation"
                                    },
                                    {
                                        "name": "DeliveryRun"
                                    },
                                    {
                                        "name": "RunPosition"
                                    }
                                ]
                            },
                            "data": [
                                {
                                    "0": "841",
                                    "1": "Camille Authier",
                                    "2": "Gift Store",
                                    "3": "Camille Authier",
                                    "4": "NULL",
                                    "5": "(252) 555-0100",
                                    "6": "(252) 555-0101",
                                    "7": "NULL",
                                    "8": "http://www.microsoft.com/CamilleAuthier/",
                                    "9": "Delivery Van",
                                    "10": "Abbottsburg",
                                    "11": "0xE6100000010CE126A3CA30424140EF607AB166AE53C0",
                                    "12": "",
                                    "13": ""
                                },
                                {
                                    "0": "83",
                                    "1": "Tailspin Toys (Absecon, NJ)",
                                    "2": "Novelty Shop",
                                    "3": "Sang Tran",
                                    "4": "Bela Nemeth",
                                    "5": "(201) 555-0100",
                                    "6": "(201) 555-0101",
                                    "7": "Tailspin Toys",
                                    "8": "http://www.tailspintoys.com/Absecon",
                                    "9": "Delivery Van",
                                    "10": "Absecon",
                                    "11": "0xE6100000010C0F3B9D75D7B643403C985EACB99F52C0",
                                    "12": "",
                                    "13": ""
                                },
                                {
                                    "0": "595",
                                    "1": "Wingtip Toys (Accomac, VA)",
                                    "2": "Novelty Shop",
                                    "3": "Baanuraekha Voleti",
                                    "4": "Renata Alva",
                                    "5": "(276) 555-0100",
                                    "6": "(276) 555-0101",
                                    "7": "Wingtip Toys",
                                    "8": "http://www.wingtiptoys.com/Accomac",
                                    "9": "Delivery Van",
                                    "10": "Accomac",
                                    "11": "0xE6100000010CCE05E4011BDC4240ADDF4C4C97EA52C0",
                                    "12": "",
                                    "13": ""
                                },
                                {
                                    "0": "84",
                                    "1": "Tailspin Toys (Aceitunas, PR)",
                                    "2": "Novelty Shop",
                                    "3": "Eekalabya Bose",
                                    "4": "Margherita Bucco",
                                    "5": "(787) 555-0100",
                                    "6": "(787) 555-0101",
                                    "7": "Tailspin Toys",
                                    "8": "http://www.tailspintoys.com/Aceitunas",
                                    "9": "Delivery Van",
                                    "10": "Aceitunas",
                                    "11": "0xE6100000010CC786C9AF7A713240391B3C5D27C450C0",
                                    "12": "",
                                    "13": ""
                                },
                                {
                                    "0": "38",
                                    "1": "Tailspin Toys (Airport Drive, MO)",
                                    "2": "Novelty Shop",
                                    "3": "Nils Kalnins",
                                    "4": "Rajiv Kotadia",
                                    "5": "(314) 555-0100",
                                    "6": "(314) 555-0101",
                                    "7": "Tailspin Toys",
                                    "8": "http://www.tailspintoys.com/AirportDrive",
                                    "9": "Delivery Van",
                                    "10": "Airport Drive",
                                    "11": "0xE6100000010CE6E0E35D3F924240D5D7A9A8B0A057C0",
                                    "12": "",
                                    "13": ""
                                },
                                {
                                    "0": "537",
                                    "1": "Wingtip Toys (Akhiok, AK)",
                                    "2": "Novelty Shop",
                                    "3": "Deepesh Bose",
                                    "4": "Ambareesh Madhunapantula",
                                    "5": "(907) 555-0100",
                                    "6": "(907) 555-0101",
                                    "7": "Wingtip Toys",
                                    "8": "http://www.wingtiptoys.com/Akhiok",
                                    "9": "Delivery Van",
                                    "10": "Akhiok",
                                    "11": "0xE6100000010C5B4645F707794C4084C76DEA724563C0",
                                    "12": "",
                                    "13": ""
                                },
                                {
                                    "0": "853",
                                    "1": "Caterina Pinto",
                                    "2": "Gift Store",
                                    "3": "Caterina Pinto",
                                    "4": "NULL",
                                    "5": "(907) 555-0100",
                                    "6": "(907) 555-0101",
                                    "7": "NULL",
                                    "8": "http://www.microsoft.com/CaterinaPinto/",
                                    "9": "Delivery Van",
                                    "10": "Akhiok",
                                    "11": "0xE6100000010C5B4645F707794C4084C76DEA724563C0",
                                    "12": "",
                                    "13": ""
                                },
                                {
                                    "0": "589",
                                    "1": "Wingtip Toys (Alcester, SD)",
                                    "2": "Novelty Shop",
                                    "3": "Deviprasad PrabhupÄda",
                                    "4": "Tess Seegers",
                                    "5": "(605) 555-0100",
                                    "6": "(605) 555-0101",
                                    "7": "Wingtip Toys",
                                    "8": "http://www.wingtiptoys.com/Alcester",
                                    "9": "Delivery Van",
                                    "10": "Alcester",
                                    "11": "0xE6100000010C0BAC2D86BC8245401680EB2F602858C0",
                                    "12": "",
                                    "13": ""
                                },
                                {
                                    "0": "892",
                                    "1": "Bahaar Asef zade",
                                    "2": "Supermarket",
                                    "3": "Bahaar Asef zade",
                                    "4": "NULL",
                                    "5": "(225) 555-0100",
                                    "6": "(225) 555-0101",
                                    "7": "NULL",
                                    "8": "http://www.microsoft.com/BahaarAsefzade/",
                                    "9": "Delivery Van",
                                    "10": "Alden Bridge",
                                    "11": "0xE6100000010CD81D41E0376340401E537765176E57C0",
                                    "12": "",
                                    "13": ""
                                },
                                {
                                    "0": "91",
                                    "1": "Tailspin Toys (Alstead, NH)",
                                    "2": "Novelty Shop",
                                    "3": "GokCe Karaca",
                                    "4": "Maria Munteanu",
                                    "5": "(603) 555-0100",
                                    "6": "(603) 555-0101",
                                    "7": "Tailspin Toys",
                                    "8": "http://www.tailspintoys.com/Alstead",
                                    "9": "Delivery Van",
                                    "10": "Alstead",
                                    "11": "0xE6100000010C625AE55311934540CC01CCC6141752C0",
                                    "12": "",
                                    "13": ""
                                }
                            ]
                        },
                        "text/html": "<table><tr><th>CustomerID</th><th>CustomerName</th><th>CustomerCategoryName</th><th>PrimaryContact</th><th>AlternateContact</th><th>PhoneNumber</th><th>FaxNumber</th><th>BuyingGroupName</th><th>WebsiteURL</th><th>DeliveryMethod</th><th>CityName</th><th>DeliveryLocation</th><th>DeliveryRun</th><th>RunPosition</th></tr><tr><td>841</td><td>Camille Authier</td><td>Gift Store</td><td>Camille Authier</td><td>NULL</td><td>(252) 555-0100</td><td>(252) 555-0101</td><td>NULL</td><td>http://www.microsoft.com/CamilleAuthier/</td><td>Delivery Van</td><td>Abbottsburg</td><td>0xE6100000010CE126A3CA30424140EF607AB166AE53C0</td><td></td><td></td></tr><tr><td>83</td><td>Tailspin Toys (Absecon, NJ)</td><td>Novelty Shop</td><td>Sang Tran</td><td>Bela Nemeth</td><td>(201) 555-0100</td><td>(201) 555-0101</td><td>Tailspin Toys</td><td>http://www.tailspintoys.com/Absecon</td><td>Delivery Van</td><td>Absecon</td><td>0xE6100000010C0F3B9D75D7B643403C985EACB99F52C0</td><td></td><td></td></tr><tr><td>595</td><td>Wingtip Toys (Accomac, VA)</td><td>Novelty Shop</td><td>Baanuraekha Voleti</td><td>Renata Alva</td><td>(276) 555-0100</td><td>(276) 555-0101</td><td>Wingtip Toys</td><td>http://www.wingtiptoys.com/Accomac</td><td>Delivery Van</td><td>Accomac</td><td>0xE6100000010CCE05E4011BDC4240ADDF4C4C97EA52C0</td><td></td><td></td></tr><tr><td>84</td><td>Tailspin Toys (Aceitunas, PR)</td><td>Novelty Shop</td><td>Eekalabya Bose</td><td>Margherita Bucco</td><td>(787) 555-0100</td><td>(787) 555-0101</td><td>Tailspin Toys</td><td>http://www.tailspintoys.com/Aceitunas</td><td>Delivery Van</td><td>Aceitunas</td><td>0xE6100000010CC786C9AF7A713240391B3C5D27C450C0</td><td></td><td></td></tr><tr><td>38</td><td>Tailspin Toys (Airport Drive, MO)</td><td>Novelty Shop</td><td>Nils Kalnins</td><td>Rajiv Kotadia</td><td>(314) 555-0100</td><td>(314) 555-0101</td><td>Tailspin Toys</td><td>http://www.tailspintoys.com/AirportDrive</td><td>Delivery Van</td><td>Airport Drive</td><td>0xE6100000010CE6E0E35D3F924240D5D7A9A8B0A057C0</td><td></td><td></td></tr><tr><td>537</td><td>Wingtip Toys (Akhiok, AK)</td><td>Novelty Shop</td><td>Deepesh Bose</td><td>Ambareesh Madhunapantula</td><td>(907) 555-0100</td><td>(907) 555-0101</td><td>Wingtip Toys</td><td>http://www.wingtiptoys.com/Akhiok</td><td>Delivery Van</td><td>Akhiok</td><td>0xE6100000010C5B4645F707794C4084C76DEA724563C0</td><td></td><td></td></tr><tr><td>853</td><td>Caterina Pinto</td><td>Gift Store</td><td>Caterina Pinto</td><td>NULL</td><td>(907) 555-0100</td><td>(907) 555-0101</td><td>NULL</td><td>http://www.microsoft.com/CaterinaPinto/</td><td>Delivery Van</td><td>Akhiok</td><td>0xE6100000010C5B4645F707794C4084C76DEA724563C0</td><td></td><td></td></tr><tr><td>589</td><td>Wingtip Toys (Alcester, SD)</td><td>Novelty Shop</td><td>Deviprasad PrabhupÄda</td><td>Tess Seegers</td><td>(605) 555-0100</td><td>(605) 555-0101</td><td>Wingtip Toys</td><td>http://www.wingtiptoys.com/Alcester</td><td>Delivery Van</td><td>Alcester</td><td>0xE6100000010C0BAC2D86BC8245401680EB2F602858C0</td><td></td><td></td></tr><tr><td>892</td><td>Bahaar Asef zade</td><td>Supermarket</td><td>Bahaar Asef zade</td><td>NULL</td><td>(225) 555-0100</td><td>(225) 555-0101</td><td>NULL</td><td>http://www.microsoft.com/BahaarAsefzade/</td><td>Delivery Van</td><td>Alden Bridge</td><td>0xE6100000010CD81D41E0376340401E537765176E57C0</td><td></td><td></td></tr><tr><td>91</td><td>Tailspin Toys (Alstead, NH)</td><td>Novelty Shop</td><td>GokCe Karaca</td><td>Maria Munteanu</td><td>(603) 555-0100</td><td>(603) 555-0101</td><td>Tailspin Toys</td><td>http://www.tailspintoys.com/Alstead</td><td>Delivery Van</td><td>Alstead</td><td>0xE6100000010C625AE55311934540CC01CCC6141752C0</td><td></td><td></td></tr></table>"
                    },
                    "metadata": {}
                }
            ],
            "execution_count": 3
        },
        {
            "cell_type": "markdown",
            "source": [
                "## Next Step: Data Virtualization\r\n",
                "\r\n",
                "Now you're ready to open the next Python Notebook - `bdc_tutorial_02.ipynb` - to learn how to work with Data Virtualization."
            ],
            "metadata": {
                "azdata_cell_guid": "7c70d778-6f92-4d90-a41d-1966647410d5"
            }
        }
    ]
}